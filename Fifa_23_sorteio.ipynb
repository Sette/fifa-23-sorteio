{
  "cells": [
    {
      "cell_type": "markdown",
      "metadata": {
        "id": "view-in-github",
        "colab_type": "text"
      },
      "source": [
        "<a href=\"https://colab.research.google.com/github/Sette/fifa-23-sorteio/blob/main/Fifa_23_sorteio.ipynb\" target=\"_parent\"><img src=\"https://colab.research.google.com/assets/colab-badge.svg\" alt=\"Open In Colab\"/></a>"
      ]
    },
    {
      "cell_type": "code",
      "execution_count": 2,
      "metadata": {
        "id": "1n37Lqd54_R3"
      },
      "outputs": [],
      "source": [
        "import os\n",
        "from urllib.request import urlopen,Request\n",
        "import pandas as pd\n",
        "from bs4 import BeautifulSoup\n",
        "import json\n",
        "from sklearn.metrics import pairwise_distances\n",
        "from scipy.spatial.distance import cosine\n",
        "import random\n",
        "import numpy as np"
      ]
    },
    {
      "cell_type": "code",
      "source": [
        "def get_teams():\n",
        "\n",
        "  user_agent = 'Mozilla/5.0 (Windows; U; Windows NT 5.1; en-US; rv:1.9.0.7) Gecko/2009021910 Firefox/3.0.7'\n",
        "  headers={'User-Agent':user_agent,}\n",
        "\n",
        "  teams_shape = 100\n",
        "  \n",
        "\n",
        "\n",
        "  START_URL = \"https://www.fifaindex.com/pt-br/teams\"\n",
        "\n",
        "  request=Request(START_URL,None,headers) #The assembled request\n",
        "  response = urlopen(request)\n",
        "  data = response.read() # The data u need\n",
        "\n",
        "  def quant_pags(START_URL):\n",
        "    \"\"\"\n",
        "        FUNÇÃO QUE PEGA VIA CRAWLER A QUANTIDADE DE PÁGINAS A SEREM EXPLORADAS PELO ALGORITMO\n",
        "    \"\"\"\n",
        "    request=Request(START_URL,None,headers) #The assembled request\n",
        "    response = urlopen(request)\n",
        "    html = response.read() # The data u need\n",
        "    bsObj = BeautifulSoup(html, \"html5lib\")\n",
        "\n",
        "    links = bsObj.findAll(\"a\", {\"class\": \"page-link\"})\n",
        "\n",
        "    for link in links:\n",
        "      if (link.getText()) == \"Last\":\n",
        "        print(link.attrs['href'])\n",
        "        cont = int(link.attrs['href'].split(\"=\")[-1:][0])\n",
        "\n",
        "    return cont\n",
        "\n",
        "  def get_teams_from_page_link(link):\n",
        "    request=Request(link,None,headers) #The assembled request\n",
        "    response = urlopen(request)\n",
        "    html = response.read() # The data u need\n",
        "    bsObj = BeautifulSoup(html, \"html5lib\")\n",
        "\n",
        "    \n",
        "\n",
        "\n",
        "    names = bsObj.findAll(\"td\", {\"data-title\": \"Nome\"})\n",
        "    leagues = bsObj.findAll(\"a\", {\"class\": \"link-league\"})\n",
        "    att\t= bsObj.findAll(\"td\", {\"data-title\": \"ATA\"})\n",
        "    mid\t= bsObj.findAll(\"td\", {\"data-title\": \"MEI\"})\n",
        "    defense = bsObj.findAll(\"td\", {\"data-title\": \"DEF\"})\n",
        "    over = bsObj.findAll(\"td\", {\"data-title\": \"GER\"}) \n",
        "    img = bsObj.findAll(\"img\", {\"class\": \"team size-5\"}) \n",
        "\n",
        "\n",
        "    df = pd.DataFrame({\"Name\":names,\"League\":leagues,\"Att\":att,\"Mid\":mid,\"Def\":defense,\"Over\":over,'Img':img})\n",
        "\n",
        "    \n",
        "    \n",
        "\n",
        "    df[\"Name\"] = df[\"Name\"].apply(lambda x: x.getText())\n",
        "    df[\"League\"] = df[\"League\"].apply(lambda x: x.getText())\n",
        "    df[\"Att\"] = df[\"Att\"].apply(lambda x: x.getText())\n",
        "    df[\"Mid\"] = df[\"Mid\"].apply(lambda x: x.getText())\n",
        "    df[\"Def\"] = df[\"Def\"].apply(lambda x: x.getText())\n",
        "    df[\"Over\"] = df[\"Over\"].apply(lambda x: x.getText())\n",
        "    df[\"Img\"] = df[\"Img\"].apply(lambda x: x['src'])\n",
        "    \n",
        "    return df\n",
        "\n",
        "\n",
        "\n",
        "  pages = quant_pags(START_URL)\n",
        "\n",
        "  def download_teams(pages):\n",
        "    return pd.concat([get_teams_from_page_link(f'{START_URL}/?page={page}') for page in  range(1,pages+1)])\n",
        "\n",
        "\n",
        "  teams = download_teams(pages)\n",
        "\n",
        "  teams.Att = teams.Att.astype(int)\n",
        "  teams.Mid = teams.Mid.astype(int)\n",
        "  teams.Def = teams.Def.astype(int)\n",
        "\n",
        "  teams = teams.reset_index() \n",
        "\n",
        "  teams.drop(columns=\"index\",inplace=True)\n",
        "\n",
        "  womens_leagues = [\"Women's\",\"Féminine\"]\n",
        "\n",
        "  def get_sex_league(team):\n",
        "    if any(x in team.League for x in womens_leagues):\n",
        "      return \"F\"\n",
        "    \n",
        "    return \"M\"\n",
        "\n",
        "  teams[\"Sex\"] = [get_sex_league(team) for i,team in teams.iterrows()]\n",
        "\n",
        "  # teams.drop()\n",
        "\n",
        "\n",
        "  teams = teams[teams['League'] != 'Libertadores']\n",
        "\n",
        "\n",
        "  teams=teams.head(teams_shape)\n",
        "\n",
        "  teams_list = [[team[2],team[3],team[4]] for team in teams.values]\n",
        "\n",
        "\n",
        "  distance_array = pairwise_distances(teams_list, metric='euclidean')\n",
        "\n",
        "  return teams,distance_array\n",
        "\n",
        "  \n"
      ],
      "metadata": {
        "id": "jc3iJ2fZj-v6"
      },
      "execution_count": 111,
      "outputs": []
    },
    {
      "cell_type": "code",
      "execution_count": 112,
      "metadata": {
        "id": "vgV128P-ac2Z"
      },
      "outputs": [],
      "source": [
        "def sorteia(teams,distance_array,threshold = 5):\n",
        "\n",
        "\n",
        "  sorteios = 10\n",
        "\n",
        "  def get_team(df,index):\n",
        "    return df.loc[index]\n",
        "\n",
        "  def sorteia_peso(teams,distance_array,threshold):\n",
        "    while True:\n",
        "\n",
        "      \n",
        "      rand_idx = random.randrange(distance_array.shape[0])\n",
        "      rand_idy = random.randrange(distance_array.shape[1])\n",
        "\n",
        "      random_num = distance_array[rand_idx][rand_idy]\n",
        "      sorteio = random_num\n",
        "      \n",
        "      # \n",
        "      if sorteio <= threshold:\n",
        "        time1,time2 = get_team(teams,rand_idx),get_team(teams,rand_idy)\n",
        "        time1['Controle'] = 'Controle 1'\n",
        "        time2['Controle'] = 'Controle 2'\n",
        "        return [time1,time2]\n",
        "\n",
        " \n",
        "  def sorteia_confronto(teams):\n",
        "    while True:\n",
        "      times = sorteia_peso(teams,distance_array,threshold)\n",
        "      if times[0].Sex == times[1].Sex and times[0].Name != times[1].Name:\n",
        "        return times\n",
        "\n",
        "  confrontos = []\n",
        "  for i in range(sorteios):\n",
        "    confrontos.append(sorteia_confronto(teams))\n",
        "  return pd.concat([pd.DataFrame(confronto) for confronto in confrontos])"
      ]
    },
    {
      "cell_type": "code",
      "source": [
        "teams, distance_array  = get_teams()"
      ],
      "metadata": {
        "colab": {
          "base_uri": "https://localhost:8080/"
        },
        "id": "_vl2Yi6clskQ",
        "outputId": "aed99bf8-9642-44cd-86b4-98b9e5edb772"
      },
      "execution_count": 113,
      "outputs": [
        {
          "output_type": "stream",
          "name": "stdout",
          "text": [
            "?page=23\n"
          ]
        }
      ]
    },
    {
      "cell_type": "code",
      "source": [
        "teams.Img.values"
      ],
      "metadata": {
        "colab": {
          "base_uri": "https://localhost:8080/"
        },
        "id": "5j64VD9xu8tL",
        "outputId": "e0946110-24bc-40c3-ec1f-583484cbabe0"
      },
      "execution_count": 117,
      "outputs": [
        {
          "output_type": "execute_result",
          "data": {
            "text/plain": [
              "array(['https://fifastatic.fifaindex.com/FIFA23/teams/light/10.png',\n",
              "       'https://fifastatic.fifaindex.com/FIFA23/teams/light/243.png',\n",
              "       'https://fifastatic.fifaindex.com/FIFA23/teams/light/21.png',\n",
              "       'https://fifastatic.fifaindex.com/FIFA23/teams/light/73.png',\n",
              "       'https://fifastatic.fifaindex.com/FIFA23/teams/light/9.png',\n",
              "       'https://fifastatic.fifaindex.com/FIFA23/teams/light/44.png',\n",
              "       'https://fifastatic.fifaindex.com/FIFA23/teams/light/240.png',\n",
              "       'https://fifastatic.fifaindex.com/FIFA23/teams/light/241.png',\n",
              "       'https://fifastatic.fifaindex.com/FIFA23/teams/light/5.png',\n",
              "       'https://fifastatic.fifaindex.com/FIFA23/teams/light/18.png',\n",
              "       'https://fifastatic.fifaindex.com/FIFA23/teams/light/11.png',\n",
              "       'https://fifastatic.fifaindex.com/FIFA19/images/crest/5/light/45.png',\n",
              "       'https://fifastatic.fifaindex.com/FIFA23/teams/light/112172.png',\n",
              "       'https://fifastatic.fifaindex.com/FIFA23/teams/light/22.png',\n",
              "       'https://fifastatic.fifaindex.com/FIFA23/teams/light/1.png',\n",
              "       'https://fifastatic.fifaindex.com/FIFA23/teams/light/47.png',\n",
              "       'https://fifastatic.fifaindex.com/FIFA23/teams/light/481.png',\n",
              "       'https://fifastatic.fifaindex.com/FIFA23/teams/light/483.png',\n",
              "       'https://fifastatic.fifaindex.com/FIFA20/images/crest/5/light/52.png',\n",
              "       'https://fifastatic.fifaindex.com/FIFA23/teams/light/116365.png',\n",
              "       'https://fifastatic.fifaindex.com/FIFA23/teams/light/95.png',\n",
              "       'https://fifastatic.fifaindex.com/FIFA23/teams/light/449.png',\n",
              "       'https://fifastatic.fifaindex.com/FIFA23/teams/light/115841.png',\n",
              "       'https://fifastatic.fifaindex.com/FIFA23/teams/light/32.png',\n",
              "       'https://fifastatic.fifaindex.com/FIFA23/teams/light/234.png',\n",
              "       'https://fifastatic.fifaindex.com/FIFA23/teams/light/448.png',\n",
              "       'https://fifastatic.fifaindex.com/FIFA23/teams/light/19.png',\n",
              "       'https://fifastatic.fifaindex.com/FIFA23/teams/light/13.png',\n",
              "       'https://fifastatic.fifaindex.com/FIFA23/teams/light/457.png',\n",
              "       'https://fifastatic.fifaindex.com/FIFA23/teams/light/2.png',\n",
              "       'https://fifastatic.fifaindex.com/FIFA23/teams/light/115845.png',\n",
              "       'https://fifastatic.fifaindex.com/FIFA23/teams/light/236.png',\n",
              "       'https://fifastatic.fifaindex.com/FIFA23/teams/light/219.png',\n",
              "       'https://fifastatic.fifaindex.com/FIFA23/teams/light/110.png',\n",
              "       'https://fifastatic.fifaindex.com/FIFA23/teams/light/1824.png',\n",
              "       'https://fifastatic.fifaindex.com/FIFA23/teams/light/237.png',\n",
              "       'https://fifastatic.fifaindex.com/FIFA23/teams/light/110374.png',\n",
              "       'https://fifastatic.fifaindex.com/FIFA23/teams/light/69.png',\n",
              "       'https://fifastatic.fifaindex.com/FIFA23/teams/light/245.png',\n",
              "       'https://fifastatic.fifaindex.com/FIFA23/teams/light/23.png',\n",
              "       'https://fifastatic.fifaindex.com/FIFA23/teams/light/452.png',\n",
              "       'https://fifastatic.fifaindex.com/FIFA23/teams/light/7.png',\n",
              "       'https://fifastatic.fifaindex.com/FIFA23/teams/light/450.png',\n",
              "       'https://fifastatic.fifaindex.com/FIFA23/teams/light/10029.png',\n",
              "       'https://fifastatic.fifaindex.com/FIFA23/teams/light/74.png',\n",
              "       'https://fifastatic.fifaindex.com/FIFA23/teams/light/1860.png',\n",
              "       'https://fifastatic.fifaindex.com/FIFA23/teams/light/66.png',\n",
              "       'https://fifastatic.fifaindex.com/FIFA23/teams/light/14.png',\n",
              "       'https://fifastatic.fifaindex.com/FIFA23/teams/light/325.png',\n",
              "       'https://fifastatic.fifaindex.com/FIFA23/teams/light/480.png',\n",
              "       'https://fifastatic.fifaindex.com/FIFA23/teams/light/461.png',\n",
              "       'https://fifastatic.fifaindex.com/FIFA23/teams/light/1799.png',\n",
              "       'https://fifastatic.fifaindex.com/FIFA23/teams/light/8.png',\n",
              "       'https://fifastatic.fifaindex.com/FIFA23/teams/light/326.png',\n",
              "       'https://fifastatic.fifaindex.com/FIFA23/teams/light/144.png',\n",
              "       'https://fifastatic.fifaindex.com/FIFA23/teams/light/25.png',\n",
              "       'https://fifastatic.fifaindex.com/FIFA23/teams/light/72.png',\n",
              "       'https://fifastatic.fifaindex.com/FIFA23/teams/light/247.png',\n",
              "       'https://fifastatic.fifaindex.com/FIFA23/teams/light/175.png',\n",
              "       'https://fifastatic.fifaindex.com/FIFA19/images/crest/5/light/1876.png',\n",
              "       'https://fifastatic.fifaindex.com/FIFA23/teams/light/17.png',\n",
              "       'https://fifastatic.fifaindex.com/FIFA23/teams/light/479.png',\n",
              "       'https://fifastatic.fifaindex.com/FIFA23/teams/light/1896.png',\n",
              "       'https://fifastatic.fifaindex.com/FIFA23/teams/light/1808.png',\n",
              "       'https://fifastatic.fifaindex.com/FIFA23/teams/light/436.png',\n",
              "       'https://fifastatic.fifaindex.com/FIFA23/teams/light/189.png',\n",
              "       'https://fifastatic.fifaindex.com/FIFA23/teams/light/110062.png',\n",
              "       'https://fifastatic.fifaindex.com/FIFA23/teams/light/65.png',\n",
              "       'https://fifastatic.fifaindex.com/FIFA23/teams/light/111974.png',\n",
              "       'https://fifastatic.fifaindex.com/FIFA23/teams/light/55.png',\n",
              "       'https://fifastatic.fifaindex.com/FIFA23/teams/light/111811.png',\n",
              "       'https://fifastatic.fifaindex.com/FIFA23/teams/light/1925.png',\n",
              "       'https://fifastatic.fifaindex.com/FIFA23/teams/light/169.png',\n",
              "       'https://fifastatic.fifaindex.com/FIFA23/teams/light/71.png',\n",
              "       'https://fifastatic.fifaindex.com/FIFA23/teams/light/1831.png',\n",
              "       'https://fifastatic.fifaindex.com/FIFA23/teams/light/64.png',\n",
              "       'https://fifastatic.fifaindex.com/FIFA18/images/crest/5/light/1877.png',\n",
              "       'https://fifastatic.fifaindex.com/FIFA23/teams/light/453.png',\n",
              "       'https://fifastatic.fifaindex.com/FIFA23/teams/light/231.png',\n",
              "       'https://fifastatic.fifaindex.com/FIFA23/teams/light/1968.png',\n",
              "       'https://fifastatic.fifaindex.com/FIFA23/teams/light/462.png',\n",
              "       'https://fifastatic.fifaindex.com/FIFA23/teams/light/246.png',\n",
              "       'https://fifastatic.fifaindex.com/FIFA23/teams/light/76.png',\n",
              "       'https://fifastatic.fifaindex.com/FIFA23/teams/light/54.png',\n",
              "       'https://fifastatic.fifaindex.com/FIFA23/teams/light/110373.png',\n",
              "       'https://fifastatic.fifaindex.com/FIFA23/teams/light/278.png',\n",
              "       'https://fifastatic.fifaindex.com/FIFA23/teams/light/166.png',\n",
              "       'https://fifastatic.fifaindex.com/FIFA23/teams/light/1906.png',\n",
              "       'https://fifastatic.fifaindex.com/FIFA23/teams/light/468.png',\n",
              "       'https://fifastatic.fifaindex.com/FIFA23/teams/light/70.png',\n",
              "       'https://fifastatic.fifaindex.com/FIFA23/teams/light/78.png',\n",
              "       'https://fifastatic.fifaindex.com/FIFA23/teams/light/36.png',\n",
              "       'https://fifastatic.fifaindex.com/FIFA23/teams/light/1746.png',\n",
              "       'https://fifastatic.fifaindex.com/FIFA23/teams/light/100409.png',\n",
              "       'https://fifastatic.fifaindex.com/FIFA23/teams/light/327.png',\n",
              "       'https://fifastatic.fifaindex.com/FIFA23/teams/light/1861.png',\n",
              "       'https://fifastatic.fifaindex.com/FIFA23/teams/light/206.png',\n",
              "       'https://fifastatic.fifaindex.com/FIFA23/teams/light/101085.png',\n",
              "       'https://fifastatic.fifaindex.com/FIFA23/teams/light/266.png',\n",
              "       'https://fifastatic.fifaindex.com/FIFA23/teams/light/1943.png'],\n",
              "      dtype=object)"
            ]
          },
          "metadata": {},
          "execution_count": 117
        }
      ]
    },
    {
      "cell_type": "code",
      "source": [
        "from google.colab.patches import cv2_imshow"
      ],
      "metadata": {
        "id": "f8D32t3hvr0H"
      },
      "execution_count": 119,
      "outputs": []
    },
    {
      "cell_type": "code",
      "source": [
        "!curl -o 1943.png https://fifastatic.fifaindex.com/FIFA23/teams/light/1943.png "
      ],
      "metadata": {
        "colab": {
          "base_uri": "https://localhost:8080/"
        },
        "id": "QFHUdeUwvwbx",
        "outputId": "947db410-f5c2-48a5-9c36-4637e0f2dbc9"
      },
      "execution_count": 126,
      "outputs": [
        {
          "output_type": "stream",
          "name": "stdout",
          "text": [
            "  % Total    % Received % Xferd  Average Speed   Time    Time     Time  Current\n",
            "                                 Dload  Upload   Total   Spent    Left  Speed\n",
            "\r  0     0    0     0    0     0      0      0 --:--:-- --:--:-- --:--:--     0\r100  6063  100  6063    0     0   113k      0 --:--:-- --:--:-- --:--:--  113k\n"
          ]
        }
      ]
    },
    {
      "cell_type": "code",
      "source": [
        "import cv2\n",
        "img = cv2.imread('1943.png', cv2.IMREAD_UNCHANGED)"
      ],
      "metadata": {
        "id": "xpjN1H0gwB03"
      },
      "execution_count": 127,
      "outputs": []
    },
    {
      "cell_type": "code",
      "source": [
        "cv2_imshow(img)"
      ],
      "metadata": {
        "colab": {
          "base_uri": "https://localhost:8080/",
          "height": 157
        },
        "id": "KoozvpxHvtmX",
        "outputId": "9aded17d-0f29-4e0a-fcee-6b9e7b5e38c3"
      },
      "execution_count": 128,
      "outputs": [
        {
          "output_type": "display_data",
          "data": {
            "text/plain": [
              "<PIL.Image.Image image mode=RGBA size=140x140 at 0x7F45234E4C10>"
            ],
            "image/png": "[encoded data removed]"
          },
          "metadata": {}
        }
      ]
    },
    {
      "cell_type": "code",
      "execution_count": 114,
      "metadata": {
        "colab": {
          "base_uri": "https://localhost:8080/",
          "height": 713
        },
        "id": "0B0JZ55TN0QN",
        "outputId": "e2dc9952-cd76-407d-810a-baa2600a8b30"
      },
      "outputs": [
        {
          "output_type": "stream",
          "name": "stderr",
          "text": [
            "/usr/local/lib/python3.8/dist-packages/pandas/core/series.py:1056: SettingWithCopyWarning: \n",
            "A value is trying to be set on a copy of a slice from a DataFrame\n",
            "\n",
            "See the caveats in the documentation: https://pandas.pydata.org/pandas-docs/stable/user_guide/indexing.html#returning-a-view-versus-a-copy\n",
            "  cacher_needs_updating = self._check_is_chained_assignment_possible()\n",
            "/usr/local/lib/python3.8/dist-packages/pandas/core/indexing.py:1724: SettingWithCopyWarning: \n",
            "A value is trying to be set on a copy of a slice from a DataFrame\n",
            "\n",
            "See the caveats in the documentation: https://pandas.pydata.org/pandas-docs/stable/user_guide/indexing.html#returning-a-view-versus-a-copy\n",
            "  self._setitem_with_indexer_missing(indexer, value)\n"
          ]
        },
        {
          "output_type": "error",
          "ename": "KeyError",
          "evalue": "ignored",
          "traceback": [
            "\u001b[0;31m---------------------------------------------------------------------------\u001b[0m",
            "\u001b[0;31mKeyError\u001b[0m                                  Traceback (most recent call last)",
            "\u001b[0;32m/usr/local/lib/python3.8/dist-packages/pandas/core/indexes/base.py\u001b[0m in \u001b[0;36mget_loc\u001b[0;34m(self, key, method, tolerance)\u001b[0m\n\u001b[1;32m   3360\u001b[0m             \u001b[0;32mtry\u001b[0m\u001b[0;34m:\u001b[0m\u001b[0;34m\u001b[0m\u001b[0;34m\u001b[0m\u001b[0m\n\u001b[0;32m-> 3361\u001b[0;31m                 \u001b[0;32mreturn\u001b[0m \u001b[0mself\u001b[0m\u001b[0;34m.\u001b[0m\u001b[0m_engine\u001b[0m\u001b[0;34m.\u001b[0m\u001b[0mget_loc\u001b[0m\u001b[0;34m(\u001b[0m\u001b[0mcasted_key\u001b[0m\u001b[0;34m)\u001b[0m\u001b[0;34m\u001b[0m\u001b[0;34m\u001b[0m\u001b[0m\n\u001b[0m\u001b[1;32m   3362\u001b[0m             \u001b[0;32mexcept\u001b[0m \u001b[0mKeyError\u001b[0m \u001b[0;32mas\u001b[0m \u001b[0merr\u001b[0m\u001b[0;34m:\u001b[0m\u001b[0;34m\u001b[0m\u001b[0;34m\u001b[0m\u001b[0m\n",
            "\u001b[0;32m/usr/local/lib/python3.8/dist-packages/pandas/_libs/index.pyx\u001b[0m in \u001b[0;36mpandas._libs.index.IndexEngine.get_loc\u001b[0;34m()\u001b[0m\n",
            "\u001b[0;32m/usr/local/lib/python3.8/dist-packages/pandas/_libs/index.pyx\u001b[0m in \u001b[0;36mpandas._libs.index.IndexEngine.get_loc\u001b[0;34m()\u001b[0m\n",
            "\u001b[0;32mpandas/_libs/hashtable_class_helper.pxi\u001b[0m in \u001b[0;36mpandas._libs.hashtable.Int64HashTable.get_item\u001b[0;34m()\u001b[0m\n",
            "\u001b[0;32mpandas/_libs/hashtable_class_helper.pxi\u001b[0m in \u001b[0;36mpandas._libs.hashtable.Int64HashTable.get_item\u001b[0;34m()\u001b[0m\n",
            "\u001b[0;31mKeyError\u001b[0m: 83",
            "\nThe above exception was the direct cause of the following exception:\n",
            "\u001b[0;31mKeyError\u001b[0m                                  Traceback (most recent call last)",
            "\u001b[0;32m<ipython-input-114-b7e01ca6b09c>\u001b[0m in \u001b[0;36m<module>\u001b[0;34m\u001b[0m\n\u001b[0;32m----> 1\u001b[0;31m \u001b[0msorteia\u001b[0m\u001b[0;34m(\u001b[0m\u001b[0mteams\u001b[0m\u001b[0;34m,\u001b[0m\u001b[0mdistance_array\u001b[0m\u001b[0;34m,\u001b[0m\u001b[0mthreshold\u001b[0m \u001b[0;34m=\u001b[0m \u001b[0;36m2\u001b[0m\u001b[0;34m)\u001b[0m\u001b[0;34m\u001b[0m\u001b[0;34m\u001b[0m\u001b[0m\n\u001b[0m",
            "\u001b[0;32m<ipython-input-112-1b0f02b98041>\u001b[0m in \u001b[0;36msorteia\u001b[0;34m(teams, distance_array, threshold)\u001b[0m\n\u001b[1;32m     33\u001b[0m   \u001b[0mconfrontos\u001b[0m \u001b[0;34m=\u001b[0m \u001b[0;34m[\u001b[0m\u001b[0;34m]\u001b[0m\u001b[0;34m\u001b[0m\u001b[0;34m\u001b[0m\u001b[0m\n\u001b[1;32m     34\u001b[0m   \u001b[0;32mfor\u001b[0m \u001b[0mi\u001b[0m \u001b[0;32min\u001b[0m \u001b[0mrange\u001b[0m\u001b[0;34m(\u001b[0m\u001b[0msorteios\u001b[0m\u001b[0;34m)\u001b[0m\u001b[0;34m:\u001b[0m\u001b[0;34m\u001b[0m\u001b[0;34m\u001b[0m\u001b[0m\n\u001b[0;32m---> 35\u001b[0;31m     \u001b[0mconfrontos\u001b[0m\u001b[0;34m.\u001b[0m\u001b[0mappend\u001b[0m\u001b[0;34m(\u001b[0m\u001b[0msorteia_confronto\u001b[0m\u001b[0;34m(\u001b[0m\u001b[0mteams\u001b[0m\u001b[0;34m)\u001b[0m\u001b[0;34m)\u001b[0m\u001b[0;34m\u001b[0m\u001b[0;34m\u001b[0m\u001b[0m\n\u001b[0m\u001b[1;32m     36\u001b[0m   \u001b[0;32mreturn\u001b[0m \u001b[0mpd\u001b[0m\u001b[0;34m.\u001b[0m\u001b[0mconcat\u001b[0m\u001b[0;34m(\u001b[0m\u001b[0;34m[\u001b[0m\u001b[0mpd\u001b[0m\u001b[0;34m.\u001b[0m\u001b[0mDataFrame\u001b[0m\u001b[0;34m(\u001b[0m\u001b[0mconfronto\u001b[0m\u001b[0;34m)\u001b[0m \u001b[0;32mfor\u001b[0m \u001b[0mconfronto\u001b[0m \u001b[0;32min\u001b[0m \u001b[0mconfrontos\u001b[0m\u001b[0;34m]\u001b[0m\u001b[0;34m)\u001b[0m\u001b[0;34m\u001b[0m\u001b[0;34m\u001b[0m\u001b[0m\n",
            "\u001b[0;32m<ipython-input-112-1b0f02b98041>\u001b[0m in \u001b[0;36msorteia_confronto\u001b[0;34m(teams)\u001b[0m\n\u001b[1;32m     27\u001b[0m   \u001b[0;32mdef\u001b[0m \u001b[0msorteia_confronto\u001b[0m\u001b[0;34m(\u001b[0m\u001b[0mteams\u001b[0m\u001b[0;34m)\u001b[0m\u001b[0;34m:\u001b[0m\u001b[0;34m\u001b[0m\u001b[0;34m\u001b[0m\u001b[0m\n\u001b[1;32m     28\u001b[0m     \u001b[0;32mwhile\u001b[0m \u001b[0;32mTrue\u001b[0m\u001b[0;34m:\u001b[0m\u001b[0;34m\u001b[0m\u001b[0;34m\u001b[0m\u001b[0m\n\u001b[0;32m---> 29\u001b[0;31m       \u001b[0mtimes\u001b[0m \u001b[0;34m=\u001b[0m \u001b[0msorteia_peso\u001b[0m\u001b[0;34m(\u001b[0m\u001b[0mteams\u001b[0m\u001b[0;34m,\u001b[0m\u001b[0mdistance_array\u001b[0m\u001b[0;34m,\u001b[0m\u001b[0mthreshold\u001b[0m\u001b[0;34m)\u001b[0m\u001b[0;34m\u001b[0m\u001b[0;34m\u001b[0m\u001b[0m\n\u001b[0m\u001b[1;32m     30\u001b[0m       \u001b[0;32mif\u001b[0m \u001b[0mtimes\u001b[0m\u001b[0;34m[\u001b[0m\u001b[0;36m0\u001b[0m\u001b[0;34m]\u001b[0m\u001b[0;34m.\u001b[0m\u001b[0mSex\u001b[0m \u001b[0;34m==\u001b[0m \u001b[0mtimes\u001b[0m\u001b[0;34m[\u001b[0m\u001b[0;36m1\u001b[0m\u001b[0;34m]\u001b[0m\u001b[0;34m.\u001b[0m\u001b[0mSex\u001b[0m \u001b[0;32mand\u001b[0m \u001b[0mtimes\u001b[0m\u001b[0;34m[\u001b[0m\u001b[0;36m0\u001b[0m\u001b[0;34m]\u001b[0m\u001b[0;34m.\u001b[0m\u001b[0mName\u001b[0m \u001b[0;34m!=\u001b[0m \u001b[0mtimes\u001b[0m\u001b[0;34m[\u001b[0m\u001b[0;36m1\u001b[0m\u001b[0;34m]\u001b[0m\u001b[0;34m.\u001b[0m\u001b[0mName\u001b[0m\u001b[0;34m:\u001b[0m\u001b[0;34m\u001b[0m\u001b[0;34m\u001b[0m\u001b[0m\n\u001b[1;32m     31\u001b[0m         \u001b[0;32mreturn\u001b[0m \u001b[0mtimes\u001b[0m\u001b[0;34m\u001b[0m\u001b[0;34m\u001b[0m\u001b[0m\n",
            "\u001b[0;32m<ipython-input-112-1b0f02b98041>\u001b[0m in \u001b[0;36msorteia_peso\u001b[0;34m(teams, distance_array, threshold)\u001b[0m\n\u001b[1;32m     19\u001b[0m       \u001b[0;31m#\u001b[0m\u001b[0;34m\u001b[0m\u001b[0;34m\u001b[0m\u001b[0;34m\u001b[0m\u001b[0m\n\u001b[1;32m     20\u001b[0m       \u001b[0;32mif\u001b[0m \u001b[0msorteio\u001b[0m \u001b[0;34m<=\u001b[0m \u001b[0mthreshold\u001b[0m\u001b[0;34m:\u001b[0m\u001b[0;34m\u001b[0m\u001b[0;34m\u001b[0m\u001b[0m\n\u001b[0;32m---> 21\u001b[0;31m         \u001b[0mtime1\u001b[0m\u001b[0;34m,\u001b[0m\u001b[0mtime2\u001b[0m \u001b[0;34m=\u001b[0m \u001b[0mget_team\u001b[0m\u001b[0;34m(\u001b[0m\u001b[0mteams\u001b[0m\u001b[0;34m,\u001b[0m\u001b[0mrand_idx\u001b[0m\u001b[0;34m)\u001b[0m\u001b[0;34m,\u001b[0m\u001b[0mget_team\u001b[0m\u001b[0;34m(\u001b[0m\u001b[0mteams\u001b[0m\u001b[0;34m,\u001b[0m\u001b[0mrand_idy\u001b[0m\u001b[0;34m)\u001b[0m\u001b[0;34m\u001b[0m\u001b[0;34m\u001b[0m\u001b[0m\n\u001b[0m\u001b[1;32m     22\u001b[0m         \u001b[0mtime1\u001b[0m\u001b[0;34m[\u001b[0m\u001b[0;34m'Controle'\u001b[0m\u001b[0;34m]\u001b[0m \u001b[0;34m=\u001b[0m \u001b[0;34m'Controle 1'\u001b[0m\u001b[0;34m\u001b[0m\u001b[0;34m\u001b[0m\u001b[0m\n\u001b[1;32m     23\u001b[0m         \u001b[0mtime2\u001b[0m\u001b[0;34m[\u001b[0m\u001b[0;34m'Controle'\u001b[0m\u001b[0;34m]\u001b[0m \u001b[0;34m=\u001b[0m \u001b[0;34m'Controle 2'\u001b[0m\u001b[0;34m\u001b[0m\u001b[0;34m\u001b[0m\u001b[0m\n",
            "\u001b[0;32m<ipython-input-112-1b0f02b98041>\u001b[0m in \u001b[0;36mget_team\u001b[0;34m(df, index)\u001b[0m\n\u001b[1;32m      5\u001b[0m \u001b[0;34m\u001b[0m\u001b[0m\n\u001b[1;32m      6\u001b[0m   \u001b[0;32mdef\u001b[0m \u001b[0mget_team\u001b[0m\u001b[0;34m(\u001b[0m\u001b[0mdf\u001b[0m\u001b[0;34m,\u001b[0m\u001b[0mindex\u001b[0m\u001b[0;34m)\u001b[0m\u001b[0;34m:\u001b[0m\u001b[0;34m\u001b[0m\u001b[0;34m\u001b[0m\u001b[0m\n\u001b[0;32m----> 7\u001b[0;31m     \u001b[0;32mreturn\u001b[0m \u001b[0mdf\u001b[0m\u001b[0;34m.\u001b[0m\u001b[0mloc\u001b[0m\u001b[0;34m[\u001b[0m\u001b[0mindex\u001b[0m\u001b[0;34m]\u001b[0m\u001b[0;34m\u001b[0m\u001b[0;34m\u001b[0m\u001b[0m\n\u001b[0m\u001b[1;32m      8\u001b[0m \u001b[0;34m\u001b[0m\u001b[0m\n\u001b[1;32m      9\u001b[0m   \u001b[0;32mdef\u001b[0m \u001b[0msorteia_peso\u001b[0m\u001b[0;34m(\u001b[0m\u001b[0mteams\u001b[0m\u001b[0;34m,\u001b[0m\u001b[0mdistance_array\u001b[0m\u001b[0;34m,\u001b[0m\u001b[0mthreshold\u001b[0m\u001b[0;34m)\u001b[0m\u001b[0;34m:\u001b[0m\u001b[0;34m\u001b[0m\u001b[0;34m\u001b[0m\u001b[0m\n",
            "\u001b[0;32m/usr/local/lib/python3.8/dist-packages/pandas/core/indexing.py\u001b[0m in \u001b[0;36m__getitem__\u001b[0;34m(self, key)\u001b[0m\n\u001b[1;32m    929\u001b[0m \u001b[0;34m\u001b[0m\u001b[0m\n\u001b[1;32m    930\u001b[0m             \u001b[0mmaybe_callable\u001b[0m \u001b[0;34m=\u001b[0m \u001b[0mcom\u001b[0m\u001b[0;34m.\u001b[0m\u001b[0mapply_if_callable\u001b[0m\u001b[0;34m(\u001b[0m\u001b[0mkey\u001b[0m\u001b[0;34m,\u001b[0m \u001b[0mself\u001b[0m\u001b[0;34m.\u001b[0m\u001b[0mobj\u001b[0m\u001b[0;34m)\u001b[0m\u001b[0;34m\u001b[0m\u001b[0;34m\u001b[0m\u001b[0m\n\u001b[0;32m--> 931\u001b[0;31m             \u001b[0;32mreturn\u001b[0m \u001b[0mself\u001b[0m\u001b[0;34m.\u001b[0m\u001b[0m_getitem_axis\u001b[0m\u001b[0;34m(\u001b[0m\u001b[0mmaybe_callable\u001b[0m\u001b[0;34m,\u001b[0m \u001b[0maxis\u001b[0m\u001b[0;34m=\u001b[0m\u001b[0maxis\u001b[0m\u001b[0;34m)\u001b[0m\u001b[0;34m\u001b[0m\u001b[0;34m\u001b[0m\u001b[0m\n\u001b[0m\u001b[1;32m    932\u001b[0m \u001b[0;34m\u001b[0m\u001b[0m\n\u001b[1;32m    933\u001b[0m     \u001b[0;32mdef\u001b[0m \u001b[0m_is_scalar_access\u001b[0m\u001b[0;34m(\u001b[0m\u001b[0mself\u001b[0m\u001b[0;34m,\u001b[0m \u001b[0mkey\u001b[0m\u001b[0;34m:\u001b[0m \u001b[0mtuple\u001b[0m\u001b[0;34m)\u001b[0m\u001b[0;34m:\u001b[0m\u001b[0;34m\u001b[0m\u001b[0;34m\u001b[0m\u001b[0m\n",
            "\u001b[0;32m/usr/local/lib/python3.8/dist-packages/pandas/core/indexing.py\u001b[0m in \u001b[0;36m_getitem_axis\u001b[0;34m(self, key, axis)\u001b[0m\n\u001b[1;32m   1162\u001b[0m         \u001b[0;31m# fall thru to straight lookup\u001b[0m\u001b[0;34m\u001b[0m\u001b[0;34m\u001b[0m\u001b[0;34m\u001b[0m\u001b[0m\n\u001b[1;32m   1163\u001b[0m         \u001b[0mself\u001b[0m\u001b[0;34m.\u001b[0m\u001b[0m_validate_key\u001b[0m\u001b[0;34m(\u001b[0m\u001b[0mkey\u001b[0m\u001b[0;34m,\u001b[0m \u001b[0maxis\u001b[0m\u001b[0;34m)\u001b[0m\u001b[0;34m\u001b[0m\u001b[0;34m\u001b[0m\u001b[0m\n\u001b[0;32m-> 1164\u001b[0;31m         \u001b[0;32mreturn\u001b[0m \u001b[0mself\u001b[0m\u001b[0;34m.\u001b[0m\u001b[0m_get_label\u001b[0m\u001b[0;34m(\u001b[0m\u001b[0mkey\u001b[0m\u001b[0;34m,\u001b[0m \u001b[0maxis\u001b[0m\u001b[0;34m=\u001b[0m\u001b[0maxis\u001b[0m\u001b[0;34m)\u001b[0m\u001b[0;34m\u001b[0m\u001b[0;34m\u001b[0m\u001b[0m\n\u001b[0m\u001b[1;32m   1165\u001b[0m \u001b[0;34m\u001b[0m\u001b[0m\n\u001b[1;32m   1166\u001b[0m     \u001b[0;32mdef\u001b[0m \u001b[0m_get_slice_axis\u001b[0m\u001b[0;34m(\u001b[0m\u001b[0mself\u001b[0m\u001b[0;34m,\u001b[0m \u001b[0mslice_obj\u001b[0m\u001b[0;34m:\u001b[0m \u001b[0mslice\u001b[0m\u001b[0;34m,\u001b[0m \u001b[0maxis\u001b[0m\u001b[0;34m:\u001b[0m \u001b[0mint\u001b[0m\u001b[0;34m)\u001b[0m\u001b[0;34m:\u001b[0m\u001b[0;34m\u001b[0m\u001b[0;34m\u001b[0m\u001b[0m\n",
            "\u001b[0;32m/usr/local/lib/python3.8/dist-packages/pandas/core/indexing.py\u001b[0m in \u001b[0;36m_get_label\u001b[0;34m(self, label, axis)\u001b[0m\n\u001b[1;32m   1111\u001b[0m     \u001b[0;32mdef\u001b[0m \u001b[0m_get_label\u001b[0m\u001b[0;34m(\u001b[0m\u001b[0mself\u001b[0m\u001b[0;34m,\u001b[0m \u001b[0mlabel\u001b[0m\u001b[0;34m,\u001b[0m \u001b[0maxis\u001b[0m\u001b[0;34m:\u001b[0m \u001b[0mint\u001b[0m\u001b[0;34m)\u001b[0m\u001b[0;34m:\u001b[0m\u001b[0;34m\u001b[0m\u001b[0;34m\u001b[0m\u001b[0m\n\u001b[1;32m   1112\u001b[0m         \u001b[0;31m# GH#5667 this will fail if the label is not present in the axis.\u001b[0m\u001b[0;34m\u001b[0m\u001b[0;34m\u001b[0m\u001b[0;34m\u001b[0m\u001b[0m\n\u001b[0;32m-> 1113\u001b[0;31m         \u001b[0;32mreturn\u001b[0m \u001b[0mself\u001b[0m\u001b[0;34m.\u001b[0m\u001b[0mobj\u001b[0m\u001b[0;34m.\u001b[0m\u001b[0mxs\u001b[0m\u001b[0;34m(\u001b[0m\u001b[0mlabel\u001b[0m\u001b[0;34m,\u001b[0m \u001b[0maxis\u001b[0m\u001b[0;34m=\u001b[0m\u001b[0maxis\u001b[0m\u001b[0;34m)\u001b[0m\u001b[0;34m\u001b[0m\u001b[0;34m\u001b[0m\u001b[0m\n\u001b[0m\u001b[1;32m   1114\u001b[0m \u001b[0;34m\u001b[0m\u001b[0m\n\u001b[1;32m   1115\u001b[0m     \u001b[0;32mdef\u001b[0m \u001b[0m_handle_lowerdim_multi_index_axis0\u001b[0m\u001b[0;34m(\u001b[0m\u001b[0mself\u001b[0m\u001b[0;34m,\u001b[0m \u001b[0mtup\u001b[0m\u001b[0;34m:\u001b[0m \u001b[0mtuple\u001b[0m\u001b[0;34m)\u001b[0m\u001b[0;34m:\u001b[0m\u001b[0;34m\u001b[0m\u001b[0;34m\u001b[0m\u001b[0m\n",
            "\u001b[0;32m/usr/local/lib/python3.8/dist-packages/pandas/core/generic.py\u001b[0m in \u001b[0;36mxs\u001b[0;34m(self, key, axis, level, drop_level)\u001b[0m\n\u001b[1;32m   3774\u001b[0m                 \u001b[0;32mraise\u001b[0m \u001b[0mTypeError\u001b[0m\u001b[0;34m(\u001b[0m\u001b[0;34mf\"Expected label or tuple of labels, got {key}\"\u001b[0m\u001b[0;34m)\u001b[0m \u001b[0;32mfrom\u001b[0m \u001b[0me\u001b[0m\u001b[0;34m\u001b[0m\u001b[0;34m\u001b[0m\u001b[0m\n\u001b[1;32m   3775\u001b[0m         \u001b[0;32melse\u001b[0m\u001b[0;34m:\u001b[0m\u001b[0;34m\u001b[0m\u001b[0;34m\u001b[0m\u001b[0m\n\u001b[0;32m-> 3776\u001b[0;31m             \u001b[0mloc\u001b[0m \u001b[0;34m=\u001b[0m \u001b[0mindex\u001b[0m\u001b[0;34m.\u001b[0m\u001b[0mget_loc\u001b[0m\u001b[0;34m(\u001b[0m\u001b[0mkey\u001b[0m\u001b[0;34m)\u001b[0m\u001b[0;34m\u001b[0m\u001b[0;34m\u001b[0m\u001b[0m\n\u001b[0m\u001b[1;32m   3777\u001b[0m \u001b[0;34m\u001b[0m\u001b[0m\n\u001b[1;32m   3778\u001b[0m             \u001b[0;32mif\u001b[0m \u001b[0misinstance\u001b[0m\u001b[0;34m(\u001b[0m\u001b[0mloc\u001b[0m\u001b[0;34m,\u001b[0m \u001b[0mnp\u001b[0m\u001b[0;34m.\u001b[0m\u001b[0mndarray\u001b[0m\u001b[0;34m)\u001b[0m\u001b[0;34m:\u001b[0m\u001b[0;34m\u001b[0m\u001b[0;34m\u001b[0m\u001b[0m\n",
            "\u001b[0;32m/usr/local/lib/python3.8/dist-packages/pandas/core/indexes/base.py\u001b[0m in \u001b[0;36mget_loc\u001b[0;34m(self, key, method, tolerance)\u001b[0m\n\u001b[1;32m   3361\u001b[0m                 \u001b[0;32mreturn\u001b[0m \u001b[0mself\u001b[0m\u001b[0;34m.\u001b[0m\u001b[0m_engine\u001b[0m\u001b[0;34m.\u001b[0m\u001b[0mget_loc\u001b[0m\u001b[0;34m(\u001b[0m\u001b[0mcasted_key\u001b[0m\u001b[0;34m)\u001b[0m\u001b[0;34m\u001b[0m\u001b[0;34m\u001b[0m\u001b[0m\n\u001b[1;32m   3362\u001b[0m             \u001b[0;32mexcept\u001b[0m \u001b[0mKeyError\u001b[0m \u001b[0;32mas\u001b[0m \u001b[0merr\u001b[0m\u001b[0;34m:\u001b[0m\u001b[0;34m\u001b[0m\u001b[0;34m\u001b[0m\u001b[0m\n\u001b[0;32m-> 3363\u001b[0;31m                 \u001b[0;32mraise\u001b[0m \u001b[0mKeyError\u001b[0m\u001b[0;34m(\u001b[0m\u001b[0mkey\u001b[0m\u001b[0;34m)\u001b[0m \u001b[0;32mfrom\u001b[0m \u001b[0merr\u001b[0m\u001b[0;34m\u001b[0m\u001b[0;34m\u001b[0m\u001b[0m\n\u001b[0m\u001b[1;32m   3364\u001b[0m \u001b[0;34m\u001b[0m\u001b[0m\n\u001b[1;32m   3365\u001b[0m         \u001b[0;32mif\u001b[0m \u001b[0mis_scalar\u001b[0m\u001b[0;34m(\u001b[0m\u001b[0mkey\u001b[0m\u001b[0;34m)\u001b[0m \u001b[0;32mand\u001b[0m \u001b[0misna\u001b[0m\u001b[0;34m(\u001b[0m\u001b[0mkey\u001b[0m\u001b[0;34m)\u001b[0m \u001b[0;32mand\u001b[0m \u001b[0;32mnot\u001b[0m \u001b[0mself\u001b[0m\u001b[0;34m.\u001b[0m\u001b[0mhasnans\u001b[0m\u001b[0;34m:\u001b[0m\u001b[0;34m\u001b[0m\u001b[0;34m\u001b[0m\u001b[0m\n",
            "\u001b[0;31mKeyError\u001b[0m: 83"
          ]
        }
      ],
      "source": [
        "sorteia(teams,distance_array,threshold = 2)"
      ]
    },
    {
      "cell_type": "code",
      "source": [],
      "metadata": {
        "id": "WP-6j3Aum0hW"
      },
      "execution_count": 59,
      "outputs": []
    }
  ],
  "metadata": {
    "colab": {
      "provenance": [],
      "authorship_tag": "ABX9TyOBB9wQG5coLtZhUvr+Wlq1",
      "include_colab_link": true
    },
    "kernelspec": {
      "display_name": "Python 3",
      "name": "python3"
    },
    "language_info": {
      "name": "python"
    }
  },
  "nbformat": 4,
  "nbformat_minor": 0
}